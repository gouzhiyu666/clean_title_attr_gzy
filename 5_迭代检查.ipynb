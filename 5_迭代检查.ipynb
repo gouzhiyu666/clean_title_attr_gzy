{
 "cells": [
  {
   "cell_type": "code",
   "execution_count": null,
   "id": "e8ac8d2e-c585-49fe-a046-c1d589b0f48b",
   "metadata": {},
   "outputs": [],
   "source": [
    "import importlib\n",
    "import pandas as pd\n",
    "import clean_title_attr_gzy\n",
    "#importlib.reload(clean_title_attr_gzy)  # 强制重新加载模块\n",
    "from clean_title_attr_gzy import clean_res_jixing_20109\n",
    "from clean_title_attr_gzy import get_attrs0\n",
    "pd.set_option('display.max_colwidth', 1000)"
   ]
  },
  {
   "cell_type": "code",
   "execution_count": null,
   "id": "ea99d1d0-5b1b-4dc5-8e05-e606f94d726d",
   "metadata": {},
   "outputs": [],
   "source": [
    "data = pd.read_csv('20109_保健食品_25_02.csv')\n",
    "data['attrs'].fillna('',inplace=True)\n",
    "data0 = data.to_dict(orient='records')\n",
    "data.head(1)"
   ]
  },
  {
   "cell_type": "code",
   "execution_count": null,
   "id": "eed6a1ab-6cdc-473d-a260-e094e8f9d940",
   "metadata": {},
   "outputs": [],
   "source": [
    "import time\n",
    "t_start = time.time()\n",
    "res0 = [clean_res_jixing_20109(['20109'],x.get('title'),x.get('attrs')) for x in data0]\n",
    "t_end = time.time()\n",
    "t_end - t_start"
   ]
  },
  {
   "cell_type": "code",
   "execution_count": null,
   "id": "331abf14-a923-4ede-a2f4-af2575705064",
   "metadata": {},
   "outputs": [],
   "source": [
    "data['剂型_attr'] = [x[1] for x in res0]\n",
    "data[data['剂型_attr']!=''].sales.sum() / data.sales.sum()"
   ]
  },
  {
   "cell_type": "code",
   "execution_count": null,
   "id": "eb1ec0ee-203f-4dc0-9054-92d73559ad2d",
   "metadata": {},
   "outputs": [],
   "source": [
    "data = data.sort_values(by='sales',ascending=False)\n",
    "data['相关属性'] = data['attrs'].apply(lambda x:get_attrs0(x,['产品剂型', '剂型']))"
   ]
  },
  {
   "cell_type": "code",
   "execution_count": null,
   "id": "7ed1e493-3567-4fb4-b8ea-55e7d17f0bc2",
   "metadata": {},
   "outputs": [],
   "source": [
    "# 取top50条\n",
    "data_top = data.head(50)"
   ]
  },
  {
   "cell_type": "code",
   "execution_count": null,
   "id": "a6411a55-3335-47da-b3ba-892a7453f248",
   "metadata": {},
   "outputs": [],
   "source": [
    "# 叶子类目测试\n",
    "data = pd.read_csv('20109_leafcat_qa.csv')\n",
    "data['attrs'].fillna('',inplace=True)\n",
    "data0 = data.to_dict(orient='records')\n",
    "data.head(1)"
   ]
  },
  {
   "cell_type": "code",
   "execution_count": null,
   "id": "3cd52599-f40e-4ed0-9470-ce4a5cd93e66",
   "metadata": {},
   "outputs": [],
   "source": [
    "import time\n",
    "t_start = time.time()\n",
    "res0 = [clean_res_jixing_20109(['20109'],x.get('title'),x.get('attrs')) for x in data0]\n",
    "data['剂型_attr'] = [x[1] for x in res0]\n",
    "data['相关属性'] = data['attrs'].apply(lambda x:get_attrs0(x, ['产品剂型', '剂型']))\n",
    "t_end = time.time()\n",
    "t_end - t_start"
   ]
  },
  {
   "cell_type": "markdown",
   "id": "ba328605",
   "metadata": {},
   "source": [
    "#### 覆盖率：71.7%；准确率：86.7%"
   ]
  },
  {
   "cell_type": "code",
   "execution_count": null,
   "id": "23965fd6-1b99-4889-9b30-df10ef5adcc8",
   "metadata": {},
   "outputs": [],
   "source": [
    "data_sample = data.sample(60)\n",
    "data_sample.to_csv('叶子类目qa验证准确率_20109_1.csv',index=False)"
   ]
  },
  {
   "cell_type": "markdown",
   "id": "7992a38c-bec4-46fe-b0a0-26d04d8d80d9",
   "metadata": {},
   "source": [
    "#### 修改了：丸 为 丸剂;素 and 片 为片剂；饮 and not固体 为口服液；粉 and not 宠 为粉剂"
   ]
  },
  {
   "cell_type": "markdown",
   "id": "f9a2e25b",
   "metadata": {},
   "source": [
    "#### 覆盖率68%，准确率92%"
   ]
  },
  {
   "cell_type": "code",
   "execution_count": null,
   "id": "857daac8-71b7-4d6e-988b-20e6c771280c",
   "metadata": {},
   "outputs": [],
   "source": [
    "# 叶子类目测试\n",
    "data = pd.read_csv('20109_leafcat_qa.csv')\n",
    "data['attrs'].fillna('',inplace=True)\n",
    "data0 = data.to_dict(orient='records')\n",
    "t_start = time.time()\n",
    "res0 = [clean_res_jixing_20109(['20109'],x.get('title'),x.get('attrs')) for x in data0]\n",
    "data['剂型_attr'] = [x[1] for x in res0]\n",
    "data['相关属性'] = data['attrs'].apply(lambda x:get_attrs0(x, ['产品剂型', '剂型']))\n",
    "t_end = time.time()\n",
    "print(t_end - t_start)\n",
    "data_sample = data.sample(50)\n",
    "data_sample = pd.concat([data_sample,data_top])  # 类目top50+叶子类目top随机50\n",
    "data_sample.to_csv('叶子类目qa验证准确率_20109_2.csv',index=False)"
   ]
  },
  {
   "cell_type": "markdown",
   "id": "d2ab30fe",
   "metadata": {},
   "source": [
    "#### 修改了：贴 为 透皮贴剂；净肝片 为 片剂；粉 加上了 not 片"
   ]
  },
  {
   "cell_type": "markdown",
   "id": "14d28963",
   "metadata": {},
   "source": [
    "#### 覆盖率：77%；准确率：94%"
   ]
  },
  {
   "cell_type": "code",
   "execution_count": null,
   "id": "4c6c20d2",
   "metadata": {},
   "outputs": [],
   "source": [
    "# 叶子类目测试\n",
    "data = pd.read_csv('20109_leafcat_qa.csv')\n",
    "data['attrs'].fillna('',inplace=True)\n",
    "data0 = data.to_dict(orient='records')\n",
    "t_start = time.time()\n",
    "res0 = [clean_res_jixing_20109(['20109'],x.get('title'),x.get('attrs')) for x in data0]\n",
    "data['剂型_attr'] = [x[1] for x in res0]\n",
    "data['相关属性'] = data['attrs'].apply(lambda x:get_attrs0(x, ['产品剂型', '剂型']))\n",
    "t_end = time.time()\n",
    "print(t_end - t_start)\n",
    "data_sample = data.sample(50)\n",
    "data_sample = pd.concat([data_sample,data_top])  # 类目top50+叶子类目top随机50\n",
    "data_sample.to_csv('叶子类目qa验证准确率_20109_3.csv',index=False)"
   ]
  },
  {
   "cell_type": "markdown",
   "id": "7936098b",
   "metadata": {},
   "source": [
    "#### 修改了：润喉糖 为 压片糖；粉丝 不为 粉剂；净肝片 为 片剂"
   ]
  },
  {
   "cell_type": "markdown",
   "id": "04c8ebb9",
   "metadata": {},
   "source": [
    "#### 覆盖率：76%；准确率：95%"
   ]
  },
  {
   "cell_type": "code",
   "execution_count": null,
   "id": "1a032bed",
   "metadata": {},
   "outputs": [],
   "source": [
    "# 叶子类目测试\n",
    "data = pd.read_csv('20109_leafcat_qa.csv')\n",
    "data['attrs'].fillna('',inplace=True)\n",
    "data0 = data.to_dict(orient='records')\n",
    "t_start = time.time()\n",
    "res0 = [clean_res_jixing_20109(['20109'],x.get('title'),x.get('attrs')) for x in data0]\n",
    "data['剂型_attr'] = [x[1] for x in res0]\n",
    "data['相关属性'] = data['attrs'].apply(lambda x:get_attrs0(x, ['产品剂型', '剂型']))\n",
    "t_end = time.time()\n",
    "print(t_end - t_start)\n",
    "data_sample = data.sample(50)\n",
    "data_sample = pd.concat([data_sample,data_top])  # 类目top50+叶子类目top随机50\n",
    "data_sample.to_csv('叶子类目qa验证准确率_20109_4.csv',index=False)"
   ]
  },
  {
   "cell_type": "markdown",
   "id": "a9f6be2b",
   "metadata": {},
   "source": [
    "#### 覆盖率：77%；准确率：92%"
   ]
  },
  {
   "cell_type": "code",
   "execution_count": null,
   "id": "83bd3bc5",
   "metadata": {},
   "outputs": [],
   "source": [
    "# 叶子类目测试\n",
    "data = pd.read_csv('20109_leafcat_qa.csv')\n",
    "data['attrs'].fillna('',inplace=True)\n",
    "data0 = data.to_dict(orient='records')\n",
    "t_start = time.time()\n",
    "res0 = [clean_res_jixing_20109(['20109'],x.get('title'),x.get('attrs')) for x in data0]\n",
    "data['剂型_attr'] = [x[1] for x in res0]\n",
    "data['相关属性'] = data['attrs'].apply(lambda x:get_attrs0(x, ['产品剂型', '剂型']))\n",
    "t_end = time.time()\n",
    "print(t_end - t_start)\n",
    "data_sample = data.sample(50)\n",
    "data_sample = pd.concat([data_sample,data_top])  # 类目top50+叶子类目top随机50\n",
    "data_sample.to_csv('叶子类目qa验证准确率_20109_5.csv',index=False)"
   ]
  },
  {
   "cell_type": "markdown",
   "id": "b3416419",
   "metadata": {},
   "source": [
    "#### 覆盖率：79%；准确率：97%"
   ]
  },
  {
   "cell_type": "markdown",
   "id": "58f6b9f4",
   "metadata": {},
   "source": [
    "#### 重启了代码（之前没有重启）"
   ]
  },
  {
   "cell_type": "code",
   "execution_count": null,
   "id": "e9aa648e",
   "metadata": {},
   "outputs": [],
   "source": [
    "# 叶子类目测试\n",
    "data = pd.read_csv('20109_leafcat_qa.csv')\n",
    "data['attrs'].fillna('',inplace=True)\n",
    "data0 = data.to_dict(orient='records')\n",
    "t_start = time.time()\n",
    "res0 = [clean_res_jixing_20109(['20109'],x.get('title'),x.get('attrs')) for x in data0]\n",
    "data['剂型_attr'] = [x[1] for x in res0]\n",
    "data['相关属性'] = data['attrs'].apply(lambda x:get_attrs0(x, ['产品剂型', '剂型']))\n",
    "t_end = time.time()\n",
    "print(t_end - t_start)\n",
    "data_sample = data.sample(50)\n",
    "data_sample = pd.concat([data_sample,data_top])  # 类目top50+叶子类目top随机50\n",
    "data_sample.to_csv('叶子类目qa验证准确率_20109_6.csv',index=False)"
   ]
  }
 ],
 "metadata": {
  "kernelspec": {
   "display_name": "Python 3",
   "language": "python",
   "name": "python3"
  },
  "language_info": {
   "codemirror_mode": {
    "name": "ipython",
    "version": 3
   },
   "file_extension": ".py",
   "mimetype": "text/x-python",
   "name": "python",
   "nbconvert_exporter": "python",
   "pygments_lexer": "ipython3",
   "version": "3.13.2"
  }
 },
 "nbformat": 4,
 "nbformat_minor": 5
}
